{
 "cells": [
  {
   "cell_type": "code",
   "execution_count": 2,
   "id": "initial_id",
   "metadata": {
    "ExecuteTime": {
     "end_time": "2025-04-25T14:01:13.739552Z",
     "start_time": "2025-04-25T14:01:13.297017Z"
    },
    "collapsed": true
   },
   "outputs": [],
   "source": [
    "from helper import *\n",
    "import cv2\n",
    "from pathlib import Path\n",
    "import numpy as np"
   ]
  },
  {
   "cell_type": "code",
   "execution_count": 3,
   "id": "775da8d011fd3845",
   "metadata": {
    "ExecuteTime": {
     "end_time": "2025-04-25T14:01:14.216508Z",
     "start_time": "2025-04-25T14:01:13.759819Z"
    }
   },
   "outputs": [
    {
     "name": "stdout",
     "output_type": "stream",
     "text": [
      "Found 12 images in /home/samoe/workspace/uni/pren/pren2/prain_goal_detection\n"
     ]
    }
   ],
   "source": [
    "path = Path().absolute()\n",
    "\n",
    "images = []\n",
    "for file in path.iterdir():\n",
    "    if file.is_file() and file.suffix in ['.jpg', '.png', '.jpeg']:\n",
    "        img = cv2.imread(str(file))\n",
    "        images.append(img)\n",
    "\n",
    "#images = load_images(path)\n",
    "print(f\"Found {len(images)} images in {path}\")"
   ]
  },
  {
   "cell_type": "code",
   "execution_count": null,
   "id": "7fe9b9ab",
   "metadata": {},
   "outputs": [],
   "source": [
    "import ipywidgets as widgets\n",
    "from ipywidgets import interact, IntSlider, IntRangeSlider\n",
    "from IPython.display import display\n",
    "\n",
    "\n",
    "def process_and_display(lower_hue, lower_saturation, lower_value, upper_hue, upper_saturation, upper_value):\n",
    "    lower_black = np.array([lower_hue, lower_saturation, lower_value])\n",
    "    upper_black = np.array([upper_hue, upper_saturation, upper_value])\n",
    "    for img in images:\n",
    "        black_filtered, _ = filter_for_black(img, lower_black, upper_black)\n",
    "        display_image(black_filtered)\n",
    "\n",
    "\n",
    "interact(\n",
    "    process_and_display,\n",
    "    lower_hue=IntSlider(value=80, min=0, max=255, step=1, description='Lower Hue'),\n",
    "    lower_saturation=IntSlider(value=13, min=0, max=255, step=1, description='Lower Saturation'),\n",
    "    lower_value=IntSlider(value=12, min=0, max=255, step=1, description='Lower Value'),\n",
    "    upper_hue=IntSlider(value=180, min=0, max=255, step=1, description='Upper Hue'),\n",
    "    upper_saturation=IntSlider(value=255, min=0, max=255, step=1, description='Upper Saturation'),\n",
    "    upper_value=IntSlider(value=191, min=0, max=255, step=1, description='Upper Value')\n",
    ")"
   ]
  },
  {
   "cell_type": "code",
   "execution_count": null,
   "id": "43ed88fffcb6d5dc",
   "metadata": {
    "ExecuteTime": {
     "end_time": "2025-04-25T14:01:54.185757Z",
     "start_time": "2025-04-25T14:01:14.398956Z"
    }
   },
   "outputs": [],
   "source": [
    "import time\n",
    "\n",
    "# lower_black = np.array([22, 23, 12])\n",
    "lower_black = np.array([22, 23, 12])\n",
    "upper_black = np.array([180, 255, 191])\n",
    "times_taken = []\n",
    "for i in range(1):\n",
    "    start = time.time()\n",
    "    for img in images:\n",
    "        text = recognize_text(img, lower_black, upper_black, debug=True)\n",
    "        print(f\"==== Recognized '{text}' ====\\n\")\n",
    "    end = time.time()\n",
    "    total_time = end - start\n",
    "    print(f\"Time taken for iteration {i + 1}: {total_time:.2f} seconds\")\n",
    "    print(\"--------------------------------------------------\\n\")\n",
    "    times_taken.append(total_time)\n",
    "\n",
    "print(f\"Average time taken: {sum(times_taken) / len(times_taken):.2f} seconds\")\n",
    "print(f\"Average time taken per image: {sum(times_taken) / len(times_taken) / len(images):.2f} seconds\")\n",
    "print(f\"Average time taken per image without empty images: {sum(times_taken) / len(times_taken) / (len(images) - 1):.2f} seconds\")"
   ]
  },
  {
   "cell_type": "code",
   "execution_count": null,
   "id": "6e56d5919bae1564",
   "metadata": {
    "ExecuteTime": {
     "end_time": "2025-04-25T14:01:54.206750Z",
     "start_time": "2025-04-25T14:01:54.204243Z"
    }
   },
   "outputs": [],
   "source": []
  }
 ],
 "metadata": {
  "kernelspec": {
   "display_name": "Python 3",
   "language": "python",
   "name": "python3"
  },
  "language_info": {
   "codemirror_mode": {
    "name": "ipython",
    "version": 3
   },
   "file_extension": ".py",
   "mimetype": "text/x-python",
   "name": "python",
   "nbconvert_exporter": "python",
   "pygments_lexer": "ipython3",
   "version": "3.13.3"
  }
 },
 "nbformat": 4,
 "nbformat_minor": 5
}
